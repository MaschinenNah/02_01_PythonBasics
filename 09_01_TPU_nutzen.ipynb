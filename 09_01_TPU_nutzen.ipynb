{
  "nbformat": 4,
  "nbformat_minor": 0,
  "metadata": {
    "colab": {
      "name": "09_01_TPU_nutzen.ipynb",
      "provenance": [],
      "collapsed_sections": [],
      "include_colab_link": true
    },
    "kernelspec": {
      "name": "python3",
      "display_name": "Python 3"
    },
    "accelerator": "TPU"
  },
  "cells": [
    {
      "cell_type": "markdown",
      "metadata": {
        "id": "view-in-github",
        "colab_type": "text"
      },
      "source": [
        "<a href=\"https://colab.research.google.com/github/MaschinenNah/MachineLearningKursCdV/blob/main/09_01_TPU_nutzen.ipynb\" target=\"_parent\"><img src=\"https://colab.research.google.com/assets/colab-badge.svg\" alt=\"Open In Colab\"/></a>"
      ]
    },
    {
      "cell_type": "markdown",
      "metadata": {
        "id": "u1ur6AT_gj8u"
      },
      "source": [
        "#**Tensor Processing Units (TPUs) nutzen**\n",
        "\n",
        "Google hat eigene Prozessoren entwickelt, die auf bei Machine Learning auftretende Aufgaben spezialisiert sind. Bei der Verwendung dieser Tensor Processing Units können wir mit einer Beschleunigung des Lernprozesses um den Faktor 20 rechnen!\n",
        "\n",
        "Um die Hardware Beschleunigung durch TPUs unter Google Colab zu nutzen, sind lediglich zwei Schritte notwendig:\n",
        "\n",
        "1.   Im Menü unter \"Laufzeit\" den Punkt \"Laufzeittyp ändern\" auswählen, dort unter \"Harwarebeschleuniger \"TPU\" auswählen.\n",
        "\n",
        "2.   Den folgenden Code im Notebook ausführen:\n",
        "\n"
      ]
    },
    {
      "cell_type": "code",
      "metadata": {
        "id": "joe9xdJNf8JN"
      },
      "source": [
        "import tensorflow as tf\n",
        "import os\n",
        "\n",
        "resolver = tf.distribute.cluster_resolver.TPUClusterResolver(tpu='grpc://' + os.environ['COLAB_TPU_ADDR'])\n",
        "\n",
        "tf.config.experimental_connect_to_cluster(resolver)\n",
        "tf.tpu.experimental.initialize_tpu_system(resolver)\n",
        "print(\"All devices: \", tf.config.list_logical_devices('TPU'))\n",
        "\n",
        "strategy = tf.distribute.TPUStrategy(resolver)"
      ],
      "execution_count": null,
      "outputs": []
    },
    {
      "cell_type": "markdown",
      "metadata": {
        "id": "uUQAB3MEhThb"
      },
      "source": [
        "Anmerkungen zu 1.: In diesem Notebook ist das bereits erledigt.\n",
        "\n",
        "Anmerkungen zu 2.: Dieser Code funktioniert im September 2020. Wir dürfen mit Änderungen rechnen."
      ]
    }
  ]
}