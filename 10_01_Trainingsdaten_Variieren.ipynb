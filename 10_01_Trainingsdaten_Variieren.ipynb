{
  "nbformat": 4,
  "nbformat_minor": 0,
  "metadata": {
    "colab": {
      "name": "10_01_Trainingsdaten_Variieren.ipynb",
      "provenance": [],
      "collapsed_sections": [],
      "include_colab_link": true
    },
    "kernelspec": {
      "name": "python3",
      "display_name": "Python 3"
    }
  },
  "cells": [
    {
      "cell_type": "markdown",
      "metadata": {
        "id": "view-in-github",
        "colab_type": "text"
      },
      "source": [
        "<a href=\"https://colab.research.google.com/github/MaschinenNah/MachineLearningKursCdV/blob/main/10_01_Trainingsdaten_Variieren.ipynb\" target=\"_parent\"><img src=\"https://colab.research.google.com/assets/colab-badge.svg\" alt=\"Open In Colab\"/></a>"
      ]
    },
    {
      "cell_type": "markdown",
      "metadata": {
        "id": "7DIjVLXROSk0"
      },
      "source": [
        "#**Trainingsdaten variieren**\n",
        "\n",
        "Trainingsdaten sind ein kostbares Gut, die Erstellung erfordert in der Regel viel mühsame Handarbeit.\n",
        "\n",
        "Andererseits gilt (bis zu einem gewissen Punkt, nicht bis in die Unendlichkeit) = Je mehr Traininsgdaten, um so besser!\n",
        "\n",
        "Eine große Menge an Trainigsdaten kann helfen, Overfitting zu minimieren.\n",
        "\n",
        "Eine Möglichkeit ist, Trainingsdaten algorithmisch zu modifizieren. Es wäre (wenn es um Bilder geht) etwa denkbar, folgende Verfahren anzuwenden, um mehr Trainingsdaten zu bekommen:\n",
        "\n",
        "- Bild verzerren\n",
        "- Bildausschnitt variieren\n",
        "- Bild spiegeln\n",
        "- Bild Skalieren\n",
        "- Farbkurve variieren\n",
        "\n",
        "Eine sehr einfache, im Hinblick auf die Minimierung von Overfitting sehr wirkungs volle Methode ist der Dropout-Layer.\n",
        "\n",
        "**`x = Dropout(0.5)(x)`**\n",
        "\n",
        "lässt bei jedem Trainingsdatensatz - zufallsgesteuert - jeweils nur die Hälfte aller Signale durch.\n",
        "\n",
        "\n",
        "\n"
      ]
    }
  ]
}