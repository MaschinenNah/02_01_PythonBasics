{
  "nbformat": 4,
  "nbformat_minor": 0,
  "metadata": {
    "colab": {
      "name": "04_02_MNIST_Dense_Training_Visualisiert.ipynb",
      "provenance": [],
      "collapsed_sections": [
        "Rbphdr9_QxX9",
        "7dpv9GgtR9Kf",
        "Ee_h6M9NUO99",
        "yTX6OrBGUtLF",
        "c8HBIVEHfIsk",
        "Ic6zN-AzWY8T"
      ],
      "include_colab_link": true
    },
    "kernelspec": {
      "name": "python3",
      "display_name": "Python 3"
    }
  },
  "cells": [
    {
      "cell_type": "markdown",
      "metadata": {
        "id": "view-in-github",
        "colab_type": "text"
      },
      "source": [
        "<a href=\"https://colab.research.google.com/github/MaschinenNah/MachineLearningKursCdV/blob/main/04_02_MNIST_Dense_Training_Visualisiert.ipynb\" target=\"_parent\"><img src=\"https://colab.research.google.com/assets/colab-badge.svg\" alt=\"Open In Colab\"/></a>"
      ]
    },
    {
      "cell_type": "markdown",
      "metadata": {
        "id": "bpJNhCPLd40Z"
      },
      "source": [
        "# **Handgeschriebene Ziffern erkennen**\n",
        "\n",
        "Mit Visualisierung des Trainingsprozesses"
      ]
    },
    {
      "cell_type": "code",
      "metadata": {
        "id": "XzKQZNCHMdwO"
      },
      "source": [
        "import numpy as np\n",
        "import matplotlib.pyplot as plt"
      ],
      "execution_count": null,
      "outputs": []
    },
    {
      "cell_type": "markdown",
      "metadata": {
        "id": "Rbphdr9_QxX9"
      },
      "source": [
        "####**Trainingsdaten laden und formatieren**"
      ]
    },
    {
      "cell_type": "code",
      "metadata": {
        "id": "KorNdC18RBKD"
      },
      "source": [
        "from keras.datasets import mnist\n",
        "\n",
        "(x_train, y_train), (x_test, y_test) = mnist.load_data()"
      ],
      "execution_count": null,
      "outputs": []
    },
    {
      "cell_type": "code",
      "metadata": {
        "id": "LNR0rEsDQE-J"
      },
      "source": [
        "x_train = x_train.astype(\"float32\") / 255\n",
        "x_test = x_test.astype(\"float32\") / 255"
      ],
      "execution_count": null,
      "outputs": []
    },
    {
      "cell_type": "code",
      "metadata": {
        "id": "OiwHlX2_SsPH"
      },
      "source": [
        "from keras.utils import to_categorical\n",
        "\n",
        "NUM_CLASSES = 10\n",
        "\n",
        "y_train = to_categorical(y_train, NUM_CLASSES)\n",
        "y_test = to_categorical(y_test, NUM_CLASSES)"
      ],
      "execution_count": null,
      "outputs": []
    },
    {
      "cell_type": "markdown",
      "metadata": {
        "id": "7dpv9GgtR9Kf"
      },
      "source": [
        "####**Model konstruieren**"
      ]
    },
    {
      "cell_type": "code",
      "metadata": {
        "id": "Pfvb5vCsSNBd"
      },
      "source": [
        "from keras.layers import Input, Flatten, Dense, Softmax\n",
        "from keras.models import Model\n",
        "\n",
        "\n",
        "input_layer = Input(shape=(28,28))\n",
        "\n",
        "x = Flatten()(input_layer)\n",
        "\n",
        "x = Dense(units=500, activation='sigmoid')(x)\n",
        "\n",
        "x = Dense(units=100, activation='sigmoid')(x)\n",
        "\n",
        "output_layer = Dense(units=NUM_CLASSES, activation = 'softmax')(x)\n",
        "\n",
        "model = Model(input_layer, output_layer)"
      ],
      "execution_count": null,
      "outputs": []
    },
    {
      "cell_type": "code",
      "metadata": {
        "id": "rdudjoRGTcjl"
      },
      "source": [
        "model.summary()"
      ],
      "execution_count": null,
      "outputs": []
    },
    {
      "cell_type": "code",
      "metadata": {
        "id": "wHEnCqCIyAHz"
      },
      "source": [
        "# Nicht funktionaler Code, dient nur dem Verständnis \n",
        "from keras.utils.vis_utils import plot_model\n",
        "plot_model(model, show_shapes=True)"
      ],
      "execution_count": null,
      "outputs": []
    },
    {
      "cell_type": "markdown",
      "metadata": {
        "id": "Ee_h6M9NUO99"
      },
      "source": [
        "####**Optimierungsfunktion definieren und Modell kompilieren**"
      ]
    },
    {
      "cell_type": "code",
      "metadata": {
        "id": "BpjUH9fVUYrX"
      },
      "source": [
        "from keras.optimizers import Adam\n",
        "\n",
        "opt = Adam(lr=0.0005)\n",
        "\n",
        "model.compile(loss='categorical_crossentropy',\n",
        "              optimizer=opt,\n",
        "              metrics=['accuracy'])"
      ],
      "execution_count": null,
      "outputs": []
    },
    {
      "cell_type": "markdown",
      "metadata": {
        "id": "yTX6OrBGUtLF"
      },
      "source": [
        "####**Training starten**"
      ]
    },
    {
      "cell_type": "code",
      "metadata": {
        "id": "q0MxKw9pUxR6"
      },
      "source": [
        "# NEU: Der Rückgabewert von model.fit() wird unter history gespeichert:\n",
        "# NEU: 20 Epochen statt 10, damit wir mehr erkennen können...\n",
        "history = model.fit(x_train, \n",
        "                    y_train,\n",
        "                    batch_size=32,\n",
        "                    epochs=20,\n",
        "                    shuffle=True,\n",
        "                    validation_data = (x_test, y_test))"
      ],
      "execution_count": null,
      "outputs": []
    },
    {
      "cell_type": "code",
      "metadata": {
        "id": "SMd0MGZqTg1y"
      },
      "source": [
        "# NEU: Darstellung der Verlustfunktion als Grafik:\n",
        "plt.title('Loss')\n",
        "plt.plot(history.history['loss'], label='Trainingsdaten')\n",
        "plt.plot(history.history['val_loss'], label='Testdaten')\n",
        "plt.xlabel(\"Epoche\")\n",
        "plt.ylabel(\"Loss\")\n",
        "plt.legend()"
      ],
      "execution_count": null,
      "outputs": []
    },
    {
      "cell_type": "code",
      "metadata": {
        "id": "_Lkvd9VPZSrE"
      },
      "source": [
        "# NEU: Darstellung der Genauigkeit als Grafik:\n",
        "plt.title('Accuracy')\n",
        "plt.plot(history.history['accuracy'], label='Trainingsdaten')\n",
        "plt.plot(history.history['val_accuracy'], label='Testdaten')\n",
        "plt.xlabel(\"Epoche\")\n",
        "plt.ylabel(\"Accuracy\")\n",
        "plt.legend()\n",
        "plt.show()"
      ],
      "execution_count": null,
      "outputs": []
    },
    {
      "cell_type": "markdown",
      "metadata": {
        "id": "c8HBIVEHfIsk"
      },
      "source": [
        "#### **Das Modell bewerten**"
      ]
    },
    {
      "cell_type": "code",
      "metadata": {
        "id": "0iKDdtNOftCR"
      },
      "source": [
        "model.evaluate(x_test, y_test)"
      ],
      "execution_count": null,
      "outputs": []
    },
    {
      "cell_type": "markdown",
      "metadata": {
        "id": "Ic6zN-AzWY8T"
      },
      "source": [
        "####**Das Modell in Aktion**\n",
        "\n"
      ]
    },
    {
      "cell_type": "code",
      "metadata": {
        "id": "KqNQfqqNW5OK"
      },
      "source": [
        "CLASSES = np.arange(10)\n",
        "\n",
        "indices = np.random.choice(range(10000), 5)\n",
        "arrays = x_test[indices]\n",
        "\n",
        "predictions = model.predict(arrays)\n",
        "\n",
        "predictions = CLASSES[np.argmax(predictions, axis = 1)]\n",
        "\n",
        "for idx, arr in enumerate(arrays):\n",
        "  plt.imshow(arrays[idx], cmap=\"gray\")\n",
        "  plt.show()\n",
        "  print(predictions[idx])"
      ],
      "execution_count": null,
      "outputs": []
    }
  ]
}